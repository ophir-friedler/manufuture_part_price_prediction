{
 "cells": [
  {
   "cell_type": "code",
   "execution_count": null,
   "id": "bfc7e0bc-7b79-4c61-a514-147adff0f9d4",
   "metadata": {
    "scrolled": true
   },
   "outputs": [],
   "source": [
    "!pwd"
   ]
  },
  {
   "cell_type": "code",
   "execution_count": null,
   "id": "5dd5ffbc-268b-417f-bfd5-5262e2eeffb0",
   "metadata": {},
   "outputs": [],
   "source": [
    "from src.utils import util_functions"
   ]
  },
  {
   "cell_type": "code",
   "execution_count": null,
   "id": "363e6a8e-4975-4a1f-8d84-71bea2d443a2",
   "metadata": {},
   "outputs": [],
   "source": [
    "all_dfs = util_functions.get_all_dataframes_in_data_dirs()"
   ]
  },
  {
   "cell_type": "code",
   "execution_count": null,
   "id": "6098f414-4d5f-42c8-850a-e0a311b9fb02",
   "metadata": {},
   "outputs": [],
   "source": [
    "list(all_dfs.keys())"
   ]
  }
 ],
 "metadata": {
  "kernelspec": {
   "display_name": "Python 3 (ipykernel)",
   "language": "python",
   "name": "python3"
  },
  "language_info": {
   "codemirror_mode": {
    "name": "ipython",
    "version": 3
   },
   "file_extension": ".py",
   "mimetype": "text/x-python",
   "name": "python",
   "nbconvert_exporter": "python",
   "pygments_lexer": "ipython3",
   "version": "3.9.18"
  }
 },
 "nbformat": 4,
 "nbformat_minor": 5
}